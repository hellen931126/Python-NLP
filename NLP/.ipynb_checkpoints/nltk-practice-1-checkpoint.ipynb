{
 "cells": [
  {
   "cell_type": "markdown",
   "metadata": {},
   "source": [
    "# 《python与自然语言处理》第二章练习（一）"
   ]
  },
  {
   "cell_type": "markdown",
   "metadata": {},
   "source": [
    "## 2.8.2"
   ]
  },
  {
   "cell_type": "code",
   "execution_count": 1,
   "metadata": {},
   "outputs": [],
   "source": [
    "import nltk"
   ]
  },
  {
   "cell_type": "code",
   "execution_count": 3,
   "metadata": {},
   "outputs": [],
   "source": [
    "persuasion = nltk.corpus.gutenberg.words('austen-persuasion.txt')"
   ]
  },
  {
   "cell_type": "code",
   "execution_count": 5,
   "metadata": {},
   "outputs": [
    {
     "data": {
      "text/plain": [
       "84121"
      ]
     },
     "execution_count": 5,
     "metadata": {},
     "output_type": "execute_result"
    }
   ],
   "source": [
    "len([w for w in persuasion if w.isalpha()])"
   ]
  },
  {
   "cell_type": "code",
   "execution_count": 7,
   "metadata": {},
   "outputs": [
    {
     "data": {
      "text/plain": [
       "80910"
      ]
     },
     "execution_count": 7,
     "metadata": {},
     "output_type": "execute_result"
    }
   ],
   "source": [
    "len(set([w.lower for w in persuasion if w.isalpha()]))"
   ]
  },
  {
   "cell_type": "markdown",
   "metadata": {},
   "source": [
    "## 2.8.3"
   ]
  },
  {
   "cell_type": "code",
   "execution_count": 8,
   "metadata": {},
   "outputs": [],
   "source": [
    "from nltk.corpus import brown"
   ]
  },
  {
   "cell_type": "code",
   "execution_count": 9,
   "metadata": {},
   "outputs": [
    {
     "data": {
      "text/plain": [
       "[u'adventure',\n",
       " u'belles_lettres',\n",
       " u'editorial',\n",
       " u'fiction',\n",
       " u'government',\n",
       " u'hobbies',\n",
       " u'humor',\n",
       " u'learned',\n",
       " u'lore',\n",
       " u'mystery',\n",
       " u'news',\n",
       " u'religion',\n",
       " u'reviews',\n",
       " u'romance',\n",
       " u'science_fiction']"
      ]
     },
     "execution_count": 9,
     "metadata": {},
     "output_type": "execute_result"
    }
   ],
   "source": [
    "brown.categories()"
   ]
  },
  {
   "cell_type": "code",
   "execution_count": 10,
   "metadata": {},
   "outputs": [
    {
     "data": {
      "text/plain": [
       "[u'Thirty-three', u'Scotty', u'did', u'not', u'go', ...]"
      ]
     },
     "execution_count": 10,
     "metadata": {},
     "output_type": "execute_result"
    }
   ],
   "source": [
    "brown.words(categories = 'fiction')"
   ]
  },
  {
   "cell_type": "code",
   "execution_count": 11,
   "metadata": {},
   "outputs": [
    {
     "data": {
      "text/plain": [
       "[u'Assembly', u'session', u'brought', u'much', u'good', ...]"
      ]
     },
     "execution_count": 11,
     "metadata": {},
     "output_type": "execute_result"
    }
   ],
   "source": [
    "brown.words(categories = 'editorial')"
   ]
  },
  {
   "cell_type": "markdown",
   "metadata": {},
   "source": [
    "## 2.8.4"
   ]
  },
  {
   "cell_type": "code",
   "execution_count": 14,
   "metadata": {},
   "outputs": [],
   "source": [
    "from nltk.corpus import state_union\n",
    "import matplotlib"
   ]
  },
  {
   "cell_type": "code",
   "execution_count": 22,
   "metadata": {},
   "outputs": [
    {
     "data": {
      "text/plain": [
       "[u'1945-Truman.txt',\n",
       " u'1946-Truman.txt',\n",
       " u'1947-Truman.txt',\n",
       " u'1948-Truman.txt',\n",
       " u'1949-Truman.txt',\n",
       " u'1950-Truman.txt',\n",
       " u'1951-Truman.txt',\n",
       " u'1953-Eisenhower.txt',\n",
       " u'1954-Eisenhower.txt',\n",
       " u'1955-Eisenhower.txt',\n",
       " u'1956-Eisenhower.txt',\n",
       " u'1957-Eisenhower.txt',\n",
       " u'1958-Eisenhower.txt',\n",
       " u'1959-Eisenhower.txt',\n",
       " u'1960-Eisenhower.txt',\n",
       " u'1961-Kennedy.txt',\n",
       " u'1962-Kennedy.txt',\n",
       " u'1963-Johnson.txt',\n",
       " u'1963-Kennedy.txt',\n",
       " u'1964-Johnson.txt',\n",
       " u'1965-Johnson-1.txt',\n",
       " u'1965-Johnson-2.txt',\n",
       " u'1966-Johnson.txt',\n",
       " u'1967-Johnson.txt',\n",
       " u'1968-Johnson.txt',\n",
       " u'1969-Johnson.txt',\n",
       " u'1970-Nixon.txt',\n",
       " u'1971-Nixon.txt',\n",
       " u'1972-Nixon.txt',\n",
       " u'1973-Nixon.txt',\n",
       " u'1974-Nixon.txt',\n",
       " u'1975-Ford.txt',\n",
       " u'1976-Ford.txt',\n",
       " u'1977-Ford.txt',\n",
       " u'1978-Carter.txt',\n",
       " u'1979-Carter.txt',\n",
       " u'1980-Carter.txt',\n",
       " u'1981-Reagan.txt',\n",
       " u'1982-Reagan.txt',\n",
       " u'1983-Reagan.txt',\n",
       " u'1984-Reagan.txt',\n",
       " u'1985-Reagan.txt',\n",
       " u'1986-Reagan.txt',\n",
       " u'1987-Reagan.txt',\n",
       " u'1988-Reagan.txt',\n",
       " u'1989-Bush.txt',\n",
       " u'1990-Bush.txt',\n",
       " u'1991-Bush-1.txt',\n",
       " u'1991-Bush-2.txt',\n",
       " u'1992-Bush.txt',\n",
       " u'1993-Clinton.txt',\n",
       " u'1994-Clinton.txt',\n",
       " u'1995-Clinton.txt',\n",
       " u'1996-Clinton.txt',\n",
       " u'1997-Clinton.txt',\n",
       " u'1998-Clinton.txt',\n",
       " u'1999-Clinton.txt',\n",
       " u'2000-Clinton.txt',\n",
       " u'2001-GWBush-1.txt',\n",
       " u'2001-GWBush-2.txt',\n",
       " u'2002-GWBush.txt',\n",
       " u'2003-GWBush.txt',\n",
       " u'2004-GWBush.txt',\n",
       " u'2005-GWBush.txt',\n",
       " u'2006-GWBush.txt']"
      ]
     },
     "execution_count": 22,
     "metadata": {},
     "output_type": "execute_result"
    }
   ],
   "source": [
    "state_union.fileids()"
   ]
  },
  {
   "cell_type": "code",
   "execution_count": 20,
   "metadata": {},
   "outputs": [
    {
     "data": {
      "image/png": "[encoded data removed]",
      "text/plain": [
       "<matplotlib.figure.Figure at 0xa27fe96c>"
      ]
     },
     "metadata": {},
     "output_type": "display_data"
    }
   ],
   "source": [
    "cfd = nltk.ConditionalFreqDist(\n",
    "            (target, fileid[:4]) #fileid[:4]是纵坐标\n",
    "            for fileid in state_union.fileids()\n",
    "            for w in state_union.words(fileid)\n",
    "            for target in ['men','women','people']\n",
    "            if w.lower() == target)\n",
    "cfd.plot()"
   ]
  },
  {
   "cell_type": "code",
   "execution_count": null,
   "metadata": {},
   "outputs": [],
   "source": []
  }
 ],
 "metadata": {
  "kernelspec": {
   "display_name": "Python 2",
   "language": "python",
   "name": "python2"
  },
  "language_info": {
   "codemirror_mode": {
    "name": "ipython",
    "version": 2
   },
   "file_extension": ".py",
   "mimetype": "text/x-python",
   "name": "python",
   "nbconvert_exporter": "python",
   "pygments_lexer": "ipython2",
   "version": "2.7.12"
  }
 },
 "nbformat": 4,
 "nbformat_minor": 2
}

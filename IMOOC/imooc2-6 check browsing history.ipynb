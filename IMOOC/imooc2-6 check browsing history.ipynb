{
 "cells": [
  {
   "cell_type": "markdown",
   "metadata": {},
   "source": [
    "题目：很多应用程序都有浏览用户的历史记录的功能，例如，浏览器可以查看最近访问过的网页。视频播放器可以查看最近播放过的视频文件。Shell可以查看用户输入过的命令……\n",
    "\n",
    "现在我们制作了一个简单的猜数字的小游戏，添加历史记录功能，显示用户最近猜过的数字，如何实现？"
   ]
  },
  {
   "cell_type": "code",
   "execution_count": 1,
   "metadata": {},
   "outputs": [
    {
     "name": "stdout",
     "output_type": "stream",
     "text": [
      "please enter a number: 50\n",
      "50 is less than N\n",
      "please enter a number: 60\n",
      "60 is less than N\n",
      "please enter a number: 90\n",
      "90 is greater than N\n",
      "please enter a number: 80\n",
      "80 is less than N\n",
      "please enter a number: 85\n",
      "right\n"
     ]
    }
   ],
   "source": [
    "from random import randint\n",
    "\n",
    "N = randint(0, 100)\n",
    "\n",
    "def guess(k):\n",
    "    if k == N:\n",
    "        print 'right'\n",
    "        return True\n",
    "    if k < N:\n",
    "        print '%s is less than N' % k\n",
    "    else:\n",
    "        print '%s is greater than N' % k\n",
    "    return False\n",
    "\n",
    "while True:\n",
    "    line = raw_input('please enter a number: ')\n",
    "    if line.isdigit():\n",
    "        k = int(line)\n",
    "        if guess(k):\n",
    "            break"
   ]
  },
  {
   "cell_type": "markdown",
   "metadata": {},
   "source": [
    "### 添加历史记录功能（只显示最近五次的历史记录）：\n",
    "使用容量为n的队列存储历史记录。使用标准库collections中的deque，它是一个双端循环队列。"
   ]
  },
  {
   "cell_type": "code",
   "execution_count": 2,
   "metadata": {},
   "outputs": [
    {
     "name": "stdout",
     "output_type": "stream",
     "text": [
      "please enter a number: 70\n",
      "70 is greater than N\n",
      "please enter a number: 40\n",
      "40 is less than N\n",
      "please enter a number: 55\n",
      "55 is less than N\n",
      "please enter a number: 65\n",
      "65 is greater than N\n",
      "please enter a number: 60\n",
      "60 is less than N\n",
      "please enter a number: h?\n",
      "[70, 40, 55, 65, 60]\n",
      "please enter a number: 63\n",
      "63 is greater than N\n",
      "please enter a number: h?\n",
      "[40, 55, 65, 60, 63]\n",
      "please enter a number: 62\n",
      "62 is greater than N\n",
      "please enter a number: h?\n",
      "[55, 65, 60, 63, 62]\n",
      "please enter a number: 61\n",
      "right\n"
     ]
    }
   ],
   "source": [
    "from collections import deque\n",
    "from random import randint\n",
    "\n",
    "history = deque([], 5) #第一个参数为初始值，第二个参数为数组容量\n",
    "\n",
    "N = randint(0, 100)\n",
    "\n",
    "def guess(k):\n",
    "    if k == N:\n",
    "        print 'right'\n",
    "        return True\n",
    "    if k < N:\n",
    "        print '%s is less than N' % k\n",
    "    else:\n",
    "        print '%s is greater than N' % k\n",
    "    return False\n",
    "\n",
    "while True:\n",
    "    line = raw_input('please enter a number: ')\n",
    "    if line.isdigit():\n",
    "        k = int(line)\n",
    "        history.append(k)\n",
    "        if guess(k):\n",
    "            break\n",
    "    elif line == 'history' or line == 'h?':\n",
    "        print list(history)"
   ]
  }
 ],
 "metadata": {
  "kernelspec": {
   "display_name": "Python 2",
   "language": "python",
   "name": "python2"
  },
  "language_info": {
   "codemirror_mode": {
    "name": "ipython",
    "version": 2
   },
   "file_extension": ".py",
   "mimetype": "text/x-python",
   "name": "python",
   "nbconvert_exporter": "python",
   "pygments_lexer": "ipython2",
   "version": "2.7.12"
  }
 },
 "nbformat": 4,
 "nbformat_minor": 2
}

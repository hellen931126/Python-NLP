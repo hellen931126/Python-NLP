{
 "cells": [
  {
   "cell_type": "markdown",
   "metadata": {},
   "source": [
    "题目：某编程竞赛系统，对参赛选手编程解题进行计时，选手完成题目后，把该选手解题用时记录到字典中，以便赛后按选手名查询成绩，（答题用时越短，成绩越优.)\n",
    "{'LiLei':(2,43), 'HanMeimei':(5,52), 'Jim':(1,39)...}\n",
    "\n",
    "比赛结束后，需按照排名顺序依次打印选手成绩，如何实现？"
   ]
  },
  {
   "cell_type": "code",
   "execution_count": 1,
   "metadata": {},
   "outputs": [],
   "source": [
    "d = {}"
   ]
  },
  {
   "cell_type": "code",
   "execution_count": 2,
   "metadata": {},
   "outputs": [],
   "source": [
    "d['Jim'] = (1, 35)"
   ]
  },
  {
   "cell_type": "code",
   "execution_count": 3,
   "metadata": {},
   "outputs": [],
   "source": [
    "d['Leo'] = (2, 37)"
   ]
  },
  {
   "cell_type": "code",
   "execution_count": 4,
   "metadata": {},
   "outputs": [],
   "source": [
    "d['Bob'] = (3, 40)"
   ]
  },
  {
   "cell_type": "code",
   "execution_count": 5,
   "metadata": {},
   "outputs": [
    {
     "name": "stdout",
     "output_type": "stream",
     "text": [
      "Bob\n",
      "Jim\n",
      "Leo\n"
     ]
    }
   ],
   "source": [
    "for k in d: print k"
   ]
  },
  {
   "cell_type": "markdown",
   "metadata": {},
   "source": [
    "解决方法：使用collections.OrderedDict\n",
    "以OrderedDict替代内置字典Dict，依次将选手成绩存入OrderedDict."
   ]
  },
  {
   "cell_type": "code",
   "execution_count": 6,
   "metadata": {},
   "outputs": [],
   "source": [
    "from collections import OrderedDict"
   ]
  },
  {
   "cell_type": "code",
   "execution_count": 7,
   "metadata": {},
   "outputs": [],
   "source": [
    "d = OrderedDict()"
   ]
  },
  {
   "cell_type": "code",
   "execution_count": 8,
   "metadata": {},
   "outputs": [],
   "source": [
    "d['Jim'] = (1, 35)"
   ]
  },
  {
   "cell_type": "code",
   "execution_count": 9,
   "metadata": {},
   "outputs": [],
   "source": [
    "d['Leo'] = (2, 37)"
   ]
  },
  {
   "cell_type": "code",
   "execution_count": 10,
   "metadata": {},
   "outputs": [],
   "source": [
    "d['Bob'] = (3, 40)"
   ]
  },
  {
   "cell_type": "code",
   "execution_count": 11,
   "metadata": {},
   "outputs": [
    {
     "name": "stdout",
     "output_type": "stream",
     "text": [
      "Jim\n",
      "Leo\n",
      "Bob\n"
     ]
    }
   ],
   "source": [
    "for k in d: print k"
   ]
  },
  {
   "cell_type": "markdown",
   "metadata": {},
   "source": [
    "解决原题目："
   ]
  },
  {
   "cell_type": "code",
   "execution_count": 12,
   "metadata": {},
   "outputs": [],
   "source": [
    "from time import time\n",
    "from random import randint\n",
    "from collections import OrderedDict"
   ]
  },
  {
   "cell_type": "code",
   "execution_count": 13,
   "metadata": {},
   "outputs": [],
   "source": [
    "d = OrderedDict()\n",
    "players = list('ABCDEFGH')\n",
    "start = time()"
   ]
  },
  {
   "cell_type": "code",
   "execution_count": 14,
   "metadata": {},
   "outputs": [
    {
     "name": "stdout",
     "output_type": "stream",
     "text": [
      "\n",
      "1 E 1.68072414398\n",
      "\n",
      "2 F 2.19994306564\n",
      "\n",
      "3 H 2.66896510124\n",
      "\n",
      "4 C 3.36565709114\n",
      "\n",
      "5 A 3.65463495255\n",
      "\n",
      "6 B 4.16292309761\n",
      "\n",
      "7 D 4.5665230751\n",
      "\n",
      "8 G 5.09378099442\n"
     ]
    }
   ],
   "source": [
    "for a in xrange(8):\n",
    "    raw_input() #模拟选手答题\n",
    "    p = players.pop(randint(0,7-a))\n",
    "    end = time()\n",
    "    print a + 1, p, end - start\n",
    "    d[p] = (a + 1, end - start)"
   ]
  }
 ],
 "metadata": {
  "kernelspec": {
   "display_name": "Python 2",
   "language": "python",
   "name": "python2"
  },
  "language_info": {
   "codemirror_mode": {
    "name": "ipython",
    "version": 2
   },
   "file_extension": ".py",
   "mimetype": "text/x-python",
   "name": "python",
   "nbconvert_exporter": "python",
   "pygments_lexer": "ipython2",
   "version": "2.7.12"
  }
 },
 "nbformat": 4,
 "nbformat_minor": 2
}
